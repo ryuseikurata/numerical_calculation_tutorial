{
 "cells": [
  {
   "cell_type": "code",
   "execution_count": 35,
   "metadata": {},
   "outputs": [
    {
     "name": "stdout",
     "output_type": "stream",
     "text": [
      "2\n",
      "1\n"
     ]
    }
   ],
   "source": [
    "# 整数\n",
    "a = 1\n",
    "b = 1\n",
    "c = a + b\n",
    "println(c)\n",
    "d = a * b\n",
    "println(d)"
   ]
  },
  {
   "cell_type": "code",
   "execution_count": 36,
   "metadata": {},
   "outputs": [
    {
     "name": "stdout",
     "output_type": "stream",
     "text": [
      "3.3000000000000003\n",
      "7.260000000000002\n"
     ]
    }
   ],
   "source": [
    "# 実数\n",
    "a = 1.10\n",
    "b = 2.2\n",
    "c = a + b\n",
    "println(c)\n",
    "d = a*3b\n",
    "println(d)\n"
   ]
  },
  {
   "cell_type": "code",
   "execution_count": 37,
   "metadata": {},
   "outputs": [
    {
     "name": "stdout",
     "output_type": "stream",
     "text": [
      "4 + 6im\n"
     ]
    },
    {
     "data": {
      "text/plain": [
       "-15 + 30im"
      ]
     },
     "execution_count": 37,
     "metadata": {},
     "output_type": "execute_result"
    }
   ],
   "source": [
    "# 整数の複素数\n",
    "a = 1+2im\n",
    "b = 3+4im\n",
    "c = a + b\n",
    "println(c)\n",
    "d = a*3b"
   ]
  },
  {
   "cell_type": "code",
   "execution_count": 38,
   "metadata": {},
   "outputs": [
    {
     "name": "stdout",
     "output_type": "stream",
     "text": [
      "4.0 + 6.0im\n",
      "-15.0 + 30.0im\n"
     ]
    }
   ],
   "source": [
    "# 実数の複素数\n",
    "a = 1.0 + 2.0im\n",
    "b = 3.0 + 4.0im\n",
    "c = a + b\n",
    "println(c)\n",
    "d = a*3b\n",
    "println(d)"
   ]
  },
  {
   "cell_type": "code",
   "execution_count": 39,
   "metadata": {},
   "outputs": [
    {
     "name": "stdout",
     "output_type": "stream",
     "text": [
      "1.0\n"
     ]
    }
   ],
   "source": [
    "# 円周率もいける\n",
    "a = π\n",
    "b = 3π\n",
    "c = cos(a+b)\n",
    "println(c)"
   ]
  },
  {
   "cell_type": "code",
   "execution_count": 40,
   "metadata": {},
   "outputs": [
    {
     "name": "stdout",
     "output_type": "stream",
     "text": [
      "りんごの数 3 バナナの数 4 総数は 7\n",
      "総数は 10 となった\n"
     ]
    }
   ],
   "source": [
    "#=日本語だって使える\n",
    "=#\n",
    "りんご = 3\n",
    "ばなな = 4\n",
    "総数 = りんご + ばなな\n",
    "println(\"りんごの数 $りんご バナナの数 $ばなな 総数は $総数\")\n",
    "新しいりんご = 3\n",
    "総数 += 新しいりんご\n",
    "println(\"総数は $総数 となった\")"
   ]
  },
  {
   "cell_type": "code",
   "execution_count": 41,
   "metadata": {},
   "outputs": [
    {
     "data": {
      "text/plain": [
       "4.0"
      ]
     },
     "execution_count": 41,
     "metadata": {},
     "output_type": "execute_result"
    }
   ],
   "source": [
    "# 割り算\n",
    "a = 12\n",
    "b = 3\n",
    "c = a/b"
   ]
  },
  {
   "cell_type": "code",
   "execution_count": 42,
   "metadata": {},
   "outputs": [
    {
     "name": "stdout",
     "output_type": "stream",
     "text": [
      "2\n",
      "4\n"
     ]
    }
   ],
   "source": [
    "# 割り切れない場合\n",
    "a = 12\n",
    "b = 5\n",
    "c = div(a, b)\n",
    "println(c)\n",
    "\n",
    "d = c^2\n",
    "println(d)"
   ]
  },
  {
   "cell_type": "code",
   "execution_count": 43,
   "metadata": {},
   "outputs": [
    {
     "name": "stdout",
     "output_type": "stream",
     "text": [
      "3.2, 6.6000000000000005\n"
     ]
    }
   ],
   "source": [
    "# 足し算\n",
    "function tasu(a, b)\n",
    "    c = a + b\n",
    "    return c\n",
    "end\n",
    "\n",
    "# 足し算とかけ算\n",
    "function tasukakeru(a,b)\n",
    "    c = a + b\n",
    "    d = a*3b\n",
    "    return c,d\n",
    "end\n",
    "\n",
    "a = 1.0\n",
    "b = 2.2\n",
    "c,d = tasukakeru(a,b)\n",
    "println(\"$c, $d\")"
   ]
  },
  {
   "cell_type": "code",
   "execution_count": 44,
   "metadata": {},
   "outputs": [
    {
     "name": "stdout",
     "output_type": "stream",
     "text": [
      "10.183185307179587 + 0.0im\n"
     ]
    }
   ],
   "source": [
    "# 多重ディスパッチ\n",
    "function tasu(a,b)\n",
    "    c = a + b\n",
    "    return c\n",
    "end\n",
    "\n",
    "function tasu(a::Complex,b)\n",
    "    c = a + b + 2π\n",
    "    return c\n",
    "end\n",
    "\n",
    "a = 1.0 + 0.0im\n",
    "b = 2.9\n",
    "c = tasu(a,b)\n",
    "println(c)\n"
   ]
  }
 ],
 "metadata": {
  "kernelspec": {
   "display_name": "Julia 1.6.1",
   "language": "julia",
   "name": "julia-1.6"
  },
  "language_info": {
   "file_extension": ".jl",
   "mimetype": "application/julia",
   "name": "julia",
   "version": "1.6.1"
  },
  "orig_nbformat": 4
 },
 "nbformat": 4,
 "nbformat_minor": 2
}