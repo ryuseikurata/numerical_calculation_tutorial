{
 "cells": [
  {
   "cell_type": "code",
   "execution_count": 22,
   "metadata": {},
   "outputs": [
    {
     "name": "stdout",
     "output_type": "stream",
     "text": [
      "[1 2; 3 4]\n",
      "Matrix{Int64}\n",
      "[1 2; 3 4]\n",
      "Matrix{Int64}\n",
      "[1 2; 3 4]\n",
      "Matrix{Int64}\n",
      "[1, 2]\n",
      "ベクトル Vector{Int64}\n",
      "[1, 2]\n",
      "Vector{Int64}\n"
     ]
    }
   ],
   "source": [
    "using Base: Int64\n",
    "# 行列の定義\n",
    "A = [1 2\n",
    "3 4]\n",
    "println(A)\n",
    "println(typeof(A))\n",
    "\n",
    "# 別の定義\n",
    "A = [1 2; 3 4]\n",
    "println(A)\n",
    "println(typeof(A))\n",
    "\n",
    "# 要素がゼロの2x2行列\n",
    "A = zeros(Int64, 2, 2)\n",
    "A[1,1] = 1\n",
    "A[1,2] = 2\n",
    "A[2,1] = 3\n",
    "A[2,2] = 4\n",
    "println(A)\n",
    "println(typeof(A))\n",
    "\n",
    "# ベクトル\n",
    "A = [1,2] #これはベクトル。つまり1次元配列\n",
    "println(A)\n",
    "println(\"ベクトル \", typeof(A))\n",
    "\n",
    "A = [1;2] # これは2x1行列\n",
    "println(A)\n",
    "println(typeof(A))\n",
    "\n"
   ]
  },
  {
   "cell_type": "code",
   "execution_count": 23,
   "metadata": {},
   "outputs": [
    {
     "name": "stdout",
     "output_type": "stream",
     "text": [
      "[70 100; 150 220]\n",
      "[70 100; 150 220]\n",
      "[0.8414709848078965 0.9092974268256817; 0.1411200080598672 -0.7568024953079282]\n",
      "[11 22; 33 44]\n"
     ]
    }
   ],
   "source": [
    "# 行列の積\n",
    "\n",
    "A = [1 2\n",
    "3 4]\n",
    "B = [10 20\n",
    "30 40]\n",
    "C = A*B\n",
    "println(C)\n",
    "C = B*A\n",
    "println(C)\n",
    "\n",
    "A = [1 2\n",
    "3 4]\n",
    "B = sin.(A)\n",
    "println(B)\n",
    "\n",
    "A = [1 2\n",
    "3 4]\n",
    "B = [10 20\n",
    "30 40]\n",
    "function tasu(a,b)\n",
    "    c = a + b\n",
    "    return c\n",
    "end\n",
    "\n",
    "C = tasu.(A, B)\n",
    "println(C)"
   ]
  },
  {
   "cell_type": "code",
   "execution_count": 25,
   "metadata": {},
   "outputs": [
    {
     "name": "stdout",
     "output_type": "stream",
     "text": [
      "固有ベクトル [-2.0, 4.0]\n",
      "ユニタリ行列 [-0.7071067811865475 0.7071067811865475; 0.7071067811865475 0.7071067811865475]\n",
      "[-1.9999999999999996 0.0; 0.0 3.999999999999999]\n",
      "[-1.9999999999999996 0.0; 0.0 3.999999999999999]\n",
      "[-0.7071067811865475, 0.7071067811865475]\n",
      "[0.7071067811865475, 0.7071067811865475]\n",
      "要素積[1.414213562373095, -1.414213562373095]\n",
      "積[1.414213562373095, -1.414213562373095]\n",
      "H[1 3; 3 1]\n",
      "[0.0, 0.0]\n"
     ]
    }
   ],
   "source": [
    "using LinearAlgebra: copy\n",
    "using LinearAlgebra\n",
    "# 対角化\n",
    "H = [1 3\n",
    "3 1]\n",
    "e,u = eigen(H)\n",
    "println(\"固有ベクトル \", e)\n",
    "println(\"ユニタリ行列 \",u)\n",
    "\n",
    "# 転置は'\n",
    "D = u'*H*u\n",
    "println(D)\n",
    "\n",
    "E = copy(D)\n",
    "println(E)\n",
    "\n",
    "# 行列の一部を取得、行列ベクトル積\n",
    "u1 = u[:,1]\n",
    "u2 = u[:,2]\n",
    "println(u1)\n",
    "println(u2)\n",
    "println(\"要素積\", e[1].*u1)\n",
    "println(\"積\", H*u1)\n",
    "println(\"H\", H)\n",
    "\n",
    "r1 = H*u1 - e[1].*u1\n",
    "println(r1)\n"
   ]
  },
  {
   "cell_type": "code",
   "execution_count": 35,
   "metadata": {},
   "outputs": [
    {
     "name": "stdout",
     "output_type": "stream",
     "text": [
      "[0.728900346094737 0.3161831307020315 0.6275088202683465; 0.5885694843677474 0.9868070201531223 0.9742043509623348; 0.0955464156850605 0.3248312054217537 0.9133245457961849]\n",
      "[0.7289003460947372 0.3161831307020314 0.627508820268346; 0.5885694843677474 0.9868070201531225 0.9742043509623349; 0.0955464156850604 0.32483120542175375 0.9133245457961849]\n",
      "[1.0000000000000004 -2.220446049250313e-16 -8.881784197001252e-16; -1.3877787807814457e-16 1.0000000000000004 9.992007221626409e-16; -5.551115123125783e-17 -1.6653345369377348e-16 0.9999999999999997]\n"
     ]
    },
    {
     "ename": "LoadError",
     "evalue": "DimensionMismatch(\"Both inputs should have the same number of columns\")",
     "output_type": "error",
     "traceback": [
      "DimensionMismatch(\"Both inputs should have the same number of columns\")",
      "",
      "Stacktrace:",
      " [1] /(A::Vector{Float64}, B::Matrix{Float64})",
      "   @ LinearAlgebra /Users/julia/buildbot/worker/package_macos64/build/usr/share/julia/stdlib/v1.6/LinearAlgebra/src/generic.jl:1143",
      " [2] top-level scope",
      "   @ In[35]:18",
      " [3] eval",
      "   @ ./boot.jl:360 [inlined]",
      " [4] include_string(mapexpr::typeof(REPL.softscope), mod::Module, code::String, filename::String)",
      "   @ Base ./loading.jl:1094"
     ]
    }
   ],
   "source": [
    "using LinearAlgebra\n",
    "using Random\n",
    "B = rand(Float64, 3, 3) #乱数生成 3x3行列\n",
    "println(B)\n",
    "U,S,V = svd(B) # 特異値分解\n",
    "C = U*Diagonal(S)*V'\n",
    "println(C)\n",
    "\n",
    "# 逆行列\n",
    "D = inv(B)\n",
    "F = D*C\n",
    "println(F)\n",
    "\n",
    "# 線形方程式を解く\n",
    "Random.seed!(123456)\n",
    "A = rand(Float64, 3, 3)\n",
    "b = rand(Float64, 3)\n",
    "x = A \\ b \n",
    "println(A*x - b)\n"
   ]
  },
  {
   "cell_type": "code",
   "execution_count": 37,
   "metadata": {},
   "outputs": [
    {
     "name": "stdout",
     "output_type": "stream",
     "text": [
      "[4640823264 4784703408 4826099808 4784703600; 4784703344 4784703440 4784703536 4786158448; 4784703376 4784703472 4784703568 3]\n",
      "3\n",
      "[#undef #undef #undef #undef; #undef #undef #undef #undef; #undef #undef #undef [2.0 3.0; 2.0 9.0]]\n",
      "[2.0 3.0; 2.0 9.0]\n"
     ]
    }
   ],
   "source": [
    "# 行列の初期化\n",
    "n = 3\n",
    "m = 4\n",
    "\n",
    "A = Array{Int64}(undef, n, m) # 要素が整数のn x m 行列\n",
    "A[3,4] = 3\n",
    "println(A)\n",
    "println(A[3,4])\n",
    "\n",
    "A = Array{Array{Float64,2}}(undef, n ,m) # 要素が2次元配列のn x m行列\n",
    "A[3,4] = [2 3\n",
    "2 9]\n",
    "println(A)\n",
    "println(A[3,4])\n"
   ]
  },
  {
   "cell_type": "code",
   "execution_count": 38,
   "metadata": {},
   "outputs": [
    {
     "name": "stdout",
     "output_type": "stream",
     "text": [
      "i=1\n",
      "i=2\n",
      "i=3\n",
      "i=4\n",
      "i=5\n",
      "i=6\n",
      "i=7\n",
      "i=8\n",
      "i=9\n",
      "i=10\n",
      "i=1\n",
      "i=2\n",
      "i=3\n",
      "i=4\n",
      "i=5\n",
      "i=6\n",
      "i=7\n",
      "i=8\n",
      "i=9\n",
      "i=10\n"
     ]
    }
   ],
   "source": [
    "# ループ\n",
    "n = 10\n",
    "#一つ目の書き方\n",
    "for i=1:n\n",
    "    println(\"i=$i\")\n",
    "end\n",
    "# 二つの目の書き方\n",
    "for i in 1:n\n",
    "    println(\"i=$i\")\n",
    "end"
   ]
  }
 ],
 "metadata": {
  "kernelspec": {
   "display_name": "Julia 1.6.1",
   "language": "julia",
   "name": "julia-1.6"
  },
  "language_info": {
   "file_extension": ".jl",
   "mimetype": "application/julia",
   "name": "julia",
   "version": "1.6.1"
  },
  "orig_nbformat": 4
 },
 "nbformat": 4,
 "nbformat_minor": 2
}